{
 "cells": [
  {
   "cell_type": "code",
   "execution_count": 1,
   "id": "012a2cda",
   "metadata": {},
   "outputs": [],
   "source": [
    "import numpy as np\n",
    "import pandas as pd\n",
    "import seaborn as sns\n",
    "import matplotlib.pyplot as plt\n"
   ]
  },
  {
   "cell_type": "code",
   "execution_count": null,
   "id": "b031db7e",
   "metadata": {},
   "outputs": [
    {
     "data": {
      "application/vnd.microsoft.datawrangler.viewer.v0+json": {
       "columns": [
        {
         "name": "page_id",
         "rawType": "int64",
         "type": "integer"
        },
        {
         "name": "name",
         "rawType": "object",
         "type": "string"
        },
        {
         "name": "urlslug",
         "rawType": "object",
         "type": "string"
        },
        {
         "name": "ID",
         "rawType": "object",
         "type": "string"
        },
        {
         "name": "ALIGN",
         "rawType": "object",
         "type": "string"
        },
        {
         "name": "EYE",
         "rawType": "object",
         "type": "string"
        },
        {
         "name": "HAIR",
         "rawType": "object",
         "type": "string"
        },
        {
         "name": "SEX",
         "rawType": "object",
         "type": "string"
        },
        {
         "name": "GSM",
         "rawType": "object",
         "type": "unknown"
        },
        {
         "name": "ALIVE",
         "rawType": "object",
         "type": "string"
        },
        {
         "name": "APPEARANCES",
         "rawType": "float64",
         "type": "float"
        },
        {
         "name": "FIRST APPEARANCE",
         "rawType": "object",
         "type": "string"
        },
        {
         "name": "YEAR",
         "rawType": "float64",
         "type": "float"
        }
       ],
       "ref": "e9204dd3-c6ff-4145-9a4f-7262257c9b04",
       "rows": [
        [
         "1422",
         "Batman (Bruce Wayne)",
         "\\/wiki\\/Batman_(Bruce_Wayne)",
         "Secret Identity",
         "Good Characters",
         "Blue Eyes",
         "Black Hair",
         "Male Characters",
         null,
         "Living Characters",
         "3093.0",
         "1939, May",
         "1939.0"
        ],
        [
         "23387",
         "Superman (Clark Kent)",
         "\\/wiki\\/Superman_(Clark_Kent)",
         "Secret Identity",
         "Good Characters",
         "Blue Eyes",
         "Black Hair",
         "Male Characters",
         null,
         "Living Characters",
         "2496.0",
         "1986, October",
         "1986.0"
        ],
        [
         "1458",
         "Green Lantern (Hal Jordan)",
         "\\/wiki\\/Green_Lantern_(Hal_Jordan)",
         "Secret Identity",
         "Good Characters",
         "Brown Eyes",
         "Brown Hair",
         "Male Characters",
         null,
         "Living Characters",
         "1565.0",
         "1959, October",
         "1959.0"
        ]
       ],
       "shape": {
        "columns": 12,
        "rows": 3
       }
      },
      "text/html": [
       "<div>\n",
       "<style scoped>\n",
       "    .dataframe tbody tr th:only-of-type {\n",
       "        vertical-align: middle;\n",
       "    }\n",
       "\n",
       "    .dataframe tbody tr th {\n",
       "        vertical-align: top;\n",
       "    }\n",
       "\n",
       "    .dataframe thead th {\n",
       "        text-align: right;\n",
       "    }\n",
       "</style>\n",
       "<table border=\"1\" class=\"dataframe\">\n",
       "  <thead>\n",
       "    <tr style=\"text-align: right;\">\n",
       "      <th></th>\n",
       "      <th>name</th>\n",
       "      <th>urlslug</th>\n",
       "      <th>ID</th>\n",
       "      <th>ALIGN</th>\n",
       "      <th>EYE</th>\n",
       "      <th>HAIR</th>\n",
       "      <th>SEX</th>\n",
       "      <th>GSM</th>\n",
       "      <th>ALIVE</th>\n",
       "      <th>APPEARANCES</th>\n",
       "      <th>FIRST APPEARANCE</th>\n",
       "      <th>YEAR</th>\n",
       "    </tr>\n",
       "    <tr>\n",
       "      <th>page_id</th>\n",
       "      <th></th>\n",
       "      <th></th>\n",
       "      <th></th>\n",
       "      <th></th>\n",
       "      <th></th>\n",
       "      <th></th>\n",
       "      <th></th>\n",
       "      <th></th>\n",
       "      <th></th>\n",
       "      <th></th>\n",
       "      <th></th>\n",
       "      <th></th>\n",
       "    </tr>\n",
       "  </thead>\n",
       "  <tbody>\n",
       "    <tr>\n",
       "      <th>1422</th>\n",
       "      <td>Batman (Bruce Wayne)</td>\n",
       "      <td>\\/wiki\\/Batman_(Bruce_Wayne)</td>\n",
       "      <td>Secret Identity</td>\n",
       "      <td>Good Characters</td>\n",
       "      <td>Blue Eyes</td>\n",
       "      <td>Black Hair</td>\n",
       "      <td>Male Characters</td>\n",
       "      <td>NaN</td>\n",
       "      <td>Living Characters</td>\n",
       "      <td>3093.0</td>\n",
       "      <td>1939, May</td>\n",
       "      <td>1939.0</td>\n",
       "    </tr>\n",
       "    <tr>\n",
       "      <th>23387</th>\n",
       "      <td>Superman (Clark Kent)</td>\n",
       "      <td>\\/wiki\\/Superman_(Clark_Kent)</td>\n",
       "      <td>Secret Identity</td>\n",
       "      <td>Good Characters</td>\n",
       "      <td>Blue Eyes</td>\n",
       "      <td>Black Hair</td>\n",
       "      <td>Male Characters</td>\n",
       "      <td>NaN</td>\n",
       "      <td>Living Characters</td>\n",
       "      <td>2496.0</td>\n",
       "      <td>1986, October</td>\n",
       "      <td>1986.0</td>\n",
       "    </tr>\n",
       "    <tr>\n",
       "      <th>1458</th>\n",
       "      <td>Green Lantern (Hal Jordan)</td>\n",
       "      <td>\\/wiki\\/Green_Lantern_(Hal_Jordan)</td>\n",
       "      <td>Secret Identity</td>\n",
       "      <td>Good Characters</td>\n",
       "      <td>Brown Eyes</td>\n",
       "      <td>Brown Hair</td>\n",
       "      <td>Male Characters</td>\n",
       "      <td>NaN</td>\n",
       "      <td>Living Characters</td>\n",
       "      <td>1565.0</td>\n",
       "      <td>1959, October</td>\n",
       "      <td>1959.0</td>\n",
       "    </tr>\n",
       "  </tbody>\n",
       "</table>\n",
       "</div>"
      ],
      "text/plain": [
       "                               name                             urlslug  \\\n",
       "page_id                                                                   \n",
       "1422           Batman (Bruce Wayne)        \\/wiki\\/Batman_(Bruce_Wayne)   \n",
       "23387         Superman (Clark Kent)       \\/wiki\\/Superman_(Clark_Kent)   \n",
       "1458     Green Lantern (Hal Jordan)  \\/wiki\\/Green_Lantern_(Hal_Jordan)   \n",
       "\n",
       "                      ID            ALIGN         EYE        HAIR  \\\n",
       "page_id                                                             \n",
       "1422     Secret Identity  Good Characters   Blue Eyes  Black Hair   \n",
       "23387    Secret Identity  Good Characters   Blue Eyes  Black Hair   \n",
       "1458     Secret Identity  Good Characters  Brown Eyes  Brown Hair   \n",
       "\n",
       "                     SEX  GSM              ALIVE  APPEARANCES  \\\n",
       "page_id                                                         \n",
       "1422     Male Characters  NaN  Living Characters       3093.0   \n",
       "23387    Male Characters  NaN  Living Characters       2496.0   \n",
       "1458     Male Characters  NaN  Living Characters       1565.0   \n",
       "\n",
       "        FIRST APPEARANCE    YEAR  \n",
       "page_id                           \n",
       "1422           1939, May  1939.0  \n",
       "23387      1986, October  1986.0  \n",
       "1458       1959, October  1959.0  "
      ]
     },
     "execution_count": 2,
     "metadata": {},
     "output_type": "execute_result"
    }
   ],
   "source": [
    "my_filepath = \"dataset/dc-wikia-data.csv\"\n",
    "my_data = pd.read_csv(my_filepath, index_col=\"page_id\")\n",
    "my_data.head(3)"
   ]
  },
  {
   "cell_type": "code",
   "execution_count": 3,
   "id": "7e10ac35",
   "metadata": {},
   "outputs": [],
   "source": [
    "#работа с id\n",
    "my_data[\"ID\"] = my_data[\"ID\"].fillna(\"Identity Unknown\")\n",
    "my_data[\"ID\"] = my_data[\"ID\"].replace(\"Identity Unknown\", \"Unknown Identity\")\n",
    "my_data[\"ID\"] = my_data[\"ID\"].apply(lambda x: x.split()[0])"
   ]
  },
  {
   "cell_type": "code",
   "execution_count": 4,
   "id": "223d469a",
   "metadata": {},
   "outputs": [],
   "source": [
    "my_data[\"ALIGN\"] = my_data[\"ALIGN\"].fillna(\"Unknown Unknown\")\n",
    "my_data[\"ALIGN\"] = my_data[\"ALIGN\"].apply(lambda x: x.split()[0])\n"
   ]
  },
  {
   "cell_type": "code",
   "execution_count": 5,
   "id": "c3741fb0",
   "metadata": {},
   "outputs": [],
   "source": [
    "my_data.loc[my_data[my_data[\"EYE\"] == 'Auburn Hair'].index, \"HAIR\"] = my_data.loc[my_data[my_data[\"EYE\"] == 'Auburn Hair'].index, \"EYE\"] "
   ]
  },
  {
   "cell_type": "code",
   "execution_count": 6,
   "id": "683ccaaf",
   "metadata": {},
   "outputs": [],
   "source": [
    "my_data[\"EYE\"] = my_data[\"EYE\"].fillna(\"Unknown Eyes\")\n",
    "my_data[\"EYE\"] = my_data[\"EYE\"].replace(\"Auburn Hair\", \"Unknown Eyes\")\n",
    "my_data[\"EYE\"] = my_data[\"EYE\"].apply(lambda x: x.split()[0])\n"
   ]
  },
  {
   "cell_type": "code",
   "execution_count": 7,
   "id": "99907539",
   "metadata": {},
   "outputs": [],
   "source": [
    "my_data[\"HAIR\"] = my_data[\"HAIR\"].fillna(\"Unknown Hair\")\n",
    "my_data[\"HAIR\"] = my_data[\"HAIR\"].replace(\"Reddish Brown Hair\", \"Brown Hair\")\n",
    "my_data[\"HAIR\"] = my_data[\"HAIR\"].replace(\"Platinum Blond Hair\", \"Blond Hair\")\n",
    "my_data[\"HAIR\"] = my_data[\"HAIR\"].apply(lambda x: x.split()[0])"
   ]
  },
  {
   "cell_type": "code",
   "execution_count": 8,
   "id": "05913964",
   "metadata": {},
   "outputs": [],
   "source": [
    "my_data[\"SEX\"] = my_data[\"SEX\"].fillna(\"Unknown Characters\")\n",
    "my_data[\"SEX\"] = my_data[\"SEX\"].apply(lambda x: x.split()[0])"
   ]
  },
  {
   "cell_type": "code",
   "execution_count": 9,
   "id": "b1fc8878",
   "metadata": {},
   "outputs": [],
   "source": [
    "my_data[\"ALIVE\"] = my_data[\"ALIVE\"].fillna(\"Unknown Characters\") \n",
    "my_data[\"ALIVE\"] = my_data[\"ALIVE\"].apply(lambda x: x.split()[0])"
   ]
  },
  {
   "cell_type": "code",
   "execution_count": 10,
   "id": "6bf3824e",
   "metadata": {},
   "outputs": [
    {
     "data": {
      "text/plain": [
       "array(['Unknown', 'Bisexual', 'Homosexual'], dtype=object)"
      ]
     },
     "execution_count": 10,
     "metadata": {},
     "output_type": "execute_result"
    }
   ],
   "source": [
    "my_data[\"GSM\"] = my_data[\"GSM\"].fillna(\"Unknown Characters\")\n",
    "my_data[\"GSM\"] = my_data[\"GSM\"].apply(lambda x: x.split()[0])\n",
    "my_data[\"GSM\"].unique()"
   ]
  },
  {
   "cell_type": "code",
   "execution_count": 11,
   "id": "d9b58ed5",
   "metadata": {},
   "outputs": [],
   "source": [
    "import numpy as np\n",
    "def get_month(text):\n",
    "    if type(text) == np.nan:\n",
    "        return \"Unknown\"\n",
    "    elif type(text) != str:\n",
    "        return \"Problem\"\n",
    "\n",
    "    split_text = text.split(\",\")\n",
    "    if len(split_text) == 2:\n",
    "        return split_text[1]\n",
    "    else:\n",
    "        return \"Unknown\"\n",
    "        \n",
    "\n",
    "my_data[\"MONTH\"] = my_data[\"FIRST APPEARANCE\"].map(lambda x: get_month(x))\n",
    "\n",
    "my_data = my_data.drop(\"FIRST APPEARANCE\", axis=1)"
   ]
  },
  {
   "cell_type": "code",
   "execution_count": 12,
   "id": "1c53e74a",
   "metadata": {},
   "outputs": [],
   "source": [
    "def get_supername(text):\n",
    "    if type(text) == np.nan:\n",
    "        return \"Unknown\"\n",
    "    elif type(text) != str:\n",
    "        return \"Problem\"\n",
    "\n",
    "    split_text = text.split(\"(\")\n",
    "    if len(split_text) == 2:\n",
    "        return split_text[0]\n",
    "    else:\n",
    "        return \"Unknown\"\n",
    "    \n",
    "my_data[\"supername\"] = my_data[\"name\"].map(lambda x: get_supername(x))"
   ]
  },
  {
   "cell_type": "code",
   "execution_count": 13,
   "id": "641752b0",
   "metadata": {},
   "outputs": [],
   "source": [
    "def get_humanname(text):\n",
    "    if type(text) == np.nan:\n",
    "        return \"Unknown\"\n",
    "    elif type(text) != str:\n",
    "        return \"Problem\"\n",
    "\n",
    "    split_text = text.split(\"(\")\n",
    "    if len(split_text) == 2:\n",
    "        return split_text[1][:-1]\n",
    "    else:\n",
    "        return \"Unknown\"\n",
    "    \n",
    "my_data[\"humanname\"] = my_data[\"name\"].map(lambda x: get_humanname(x))"
   ]
  },
  {
   "cell_type": "code",
   "execution_count": 14,
   "id": "deed2272",
   "metadata": {},
   "outputs": [],
   "source": [
    "excepciton_in_name = my_data[my_data[\"supername\"] == \"Unknown\"]\n",
    "my_data = my_data.drop(excepciton_in_name.index)"
   ]
  },
  {
   "cell_type": "code",
   "execution_count": 15,
   "id": "fd2e1714",
   "metadata": {},
   "outputs": [],
   "source": [
    "my_data = my_data.reindex(columns=[\n",
    "        'supername', 'humanname', 'urlslug', 'ID', 'ALIGN', 'EYE', 'HAIR', 'SEX', 'GSM', 'ALIVE',\n",
    "        'APPEARANCES', 'YEAR', 'MONTH'\n",
    "        ])"
   ]
  },
  {
   "cell_type": "code",
   "execution_count": 16,
   "id": "f85d20a6",
   "metadata": {},
   "outputs": [
    {
     "data": {
      "text/plain": [
       "(6873, 13)"
      ]
     },
     "execution_count": 16,
     "metadata": {},
     "output_type": "execute_result"
    }
   ],
   "source": [
    "my_data.shape"
   ]
  },
  {
   "cell_type": "code",
   "execution_count": 17,
   "id": "d4cbbfce",
   "metadata": {},
   "outputs": [
    {
     "data": {
      "application/vnd.microsoft.datawrangler.viewer.v0+json": {
       "columns": [
        {
         "name": "page_id",
         "rawType": "int64",
         "type": "integer"
        },
        {
         "name": "supername",
         "rawType": "object",
         "type": "string"
        },
        {
         "name": "humanname",
         "rawType": "object",
         "type": "string"
        },
        {
         "name": "urlslug",
         "rawType": "object",
         "type": "string"
        },
        {
         "name": "ID",
         "rawType": "object",
         "type": "string"
        },
        {
         "name": "ALIGN",
         "rawType": "object",
         "type": "string"
        },
        {
         "name": "EYE",
         "rawType": "object",
         "type": "string"
        },
        {
         "name": "HAIR",
         "rawType": "object",
         "type": "string"
        },
        {
         "name": "SEX",
         "rawType": "object",
         "type": "string"
        },
        {
         "name": "GSM",
         "rawType": "object",
         "type": "string"
        },
        {
         "name": "ALIVE",
         "rawType": "object",
         "type": "string"
        },
        {
         "name": "APPEARANCES",
         "rawType": "float64",
         "type": "float"
        },
        {
         "name": "YEAR",
         "rawType": "float64",
         "type": "float"
        },
        {
         "name": "MONTH",
         "rawType": "object",
         "type": "string"
        }
       ],
       "ref": "f7a62663-fd29-473b-b7d7-0e88adddc7d3",
       "rows": [
        [
         "1422",
         "Batman ",
         "Bruce Wayne",
         "\\/wiki\\/Batman_(Bruce_Wayne)",
         "Secret",
         "Good",
         "Blue",
         "Black",
         "Male",
         "Unknown",
         "Living",
         "3093.0",
         "1939.0",
         " May"
        ],
        [
         "23387",
         "Superman ",
         "Clark Kent",
         "\\/wiki\\/Superman_(Clark_Kent)",
         "Secret",
         "Good",
         "Blue",
         "Black",
         "Male",
         "Unknown",
         "Living",
         "2496.0",
         "1986.0",
         " October"
        ],
        [
         "1458",
         "Green Lantern ",
         "Hal Jordan",
         "\\/wiki\\/Green_Lantern_(Hal_Jordan)",
         "Secret",
         "Good",
         "Brown",
         "Brown",
         "Male",
         "Unknown",
         "Living",
         "1565.0",
         "1959.0",
         " October"
        ],
        [
         "1659",
         "James Gordon ",
         "New Earth",
         "\\/wiki\\/James_Gordon_(New_Earth)",
         "Public",
         "Good",
         "Brown",
         "White",
         "Male",
         "Unknown",
         "Living",
         "1316.0",
         "1987.0",
         " February"
        ],
        [
         "1576",
         "Richard Grayson ",
         "New Earth",
         "\\/wiki\\/Richard_Grayson_(New_Earth)",
         "Secret",
         "Good",
         "Blue",
         "Black",
         "Male",
         "Unknown",
         "Living",
         "1237.0",
         "1940.0",
         " April"
        ]
       ],
       "shape": {
        "columns": 13,
        "rows": 5
       }
      },
      "text/html": [
       "<div>\n",
       "<style scoped>\n",
       "    .dataframe tbody tr th:only-of-type {\n",
       "        vertical-align: middle;\n",
       "    }\n",
       "\n",
       "    .dataframe tbody tr th {\n",
       "        vertical-align: top;\n",
       "    }\n",
       "\n",
       "    .dataframe thead th {\n",
       "        text-align: right;\n",
       "    }\n",
       "</style>\n",
       "<table border=\"1\" class=\"dataframe\">\n",
       "  <thead>\n",
       "    <tr style=\"text-align: right;\">\n",
       "      <th></th>\n",
       "      <th>supername</th>\n",
       "      <th>humanname</th>\n",
       "      <th>urlslug</th>\n",
       "      <th>ID</th>\n",
       "      <th>ALIGN</th>\n",
       "      <th>EYE</th>\n",
       "      <th>HAIR</th>\n",
       "      <th>SEX</th>\n",
       "      <th>GSM</th>\n",
       "      <th>ALIVE</th>\n",
       "      <th>APPEARANCES</th>\n",
       "      <th>YEAR</th>\n",
       "      <th>MONTH</th>\n",
       "    </tr>\n",
       "    <tr>\n",
       "      <th>page_id</th>\n",
       "      <th></th>\n",
       "      <th></th>\n",
       "      <th></th>\n",
       "      <th></th>\n",
       "      <th></th>\n",
       "      <th></th>\n",
       "      <th></th>\n",
       "      <th></th>\n",
       "      <th></th>\n",
       "      <th></th>\n",
       "      <th></th>\n",
       "      <th></th>\n",
       "      <th></th>\n",
       "    </tr>\n",
       "  </thead>\n",
       "  <tbody>\n",
       "    <tr>\n",
       "      <th>1422</th>\n",
       "      <td>Batman</td>\n",
       "      <td>Bruce Wayne</td>\n",
       "      <td>\\/wiki\\/Batman_(Bruce_Wayne)</td>\n",
       "      <td>Secret</td>\n",
       "      <td>Good</td>\n",
       "      <td>Blue</td>\n",
       "      <td>Black</td>\n",
       "      <td>Male</td>\n",
       "      <td>Unknown</td>\n",
       "      <td>Living</td>\n",
       "      <td>3093.0</td>\n",
       "      <td>1939.0</td>\n",
       "      <td>May</td>\n",
       "    </tr>\n",
       "    <tr>\n",
       "      <th>23387</th>\n",
       "      <td>Superman</td>\n",
       "      <td>Clark Kent</td>\n",
       "      <td>\\/wiki\\/Superman_(Clark_Kent)</td>\n",
       "      <td>Secret</td>\n",
       "      <td>Good</td>\n",
       "      <td>Blue</td>\n",
       "      <td>Black</td>\n",
       "      <td>Male</td>\n",
       "      <td>Unknown</td>\n",
       "      <td>Living</td>\n",
       "      <td>2496.0</td>\n",
       "      <td>1986.0</td>\n",
       "      <td>October</td>\n",
       "    </tr>\n",
       "    <tr>\n",
       "      <th>1458</th>\n",
       "      <td>Green Lantern</td>\n",
       "      <td>Hal Jordan</td>\n",
       "      <td>\\/wiki\\/Green_Lantern_(Hal_Jordan)</td>\n",
       "      <td>Secret</td>\n",
       "      <td>Good</td>\n",
       "      <td>Brown</td>\n",
       "      <td>Brown</td>\n",
       "      <td>Male</td>\n",
       "      <td>Unknown</td>\n",
       "      <td>Living</td>\n",
       "      <td>1565.0</td>\n",
       "      <td>1959.0</td>\n",
       "      <td>October</td>\n",
       "    </tr>\n",
       "    <tr>\n",
       "      <th>1659</th>\n",
       "      <td>James Gordon</td>\n",
       "      <td>New Earth</td>\n",
       "      <td>\\/wiki\\/James_Gordon_(New_Earth)</td>\n",
       "      <td>Public</td>\n",
       "      <td>Good</td>\n",
       "      <td>Brown</td>\n",
       "      <td>White</td>\n",
       "      <td>Male</td>\n",
       "      <td>Unknown</td>\n",
       "      <td>Living</td>\n",
       "      <td>1316.0</td>\n",
       "      <td>1987.0</td>\n",
       "      <td>February</td>\n",
       "    </tr>\n",
       "    <tr>\n",
       "      <th>1576</th>\n",
       "      <td>Richard Grayson</td>\n",
       "      <td>New Earth</td>\n",
       "      <td>\\/wiki\\/Richard_Grayson_(New_Earth)</td>\n",
       "      <td>Secret</td>\n",
       "      <td>Good</td>\n",
       "      <td>Blue</td>\n",
       "      <td>Black</td>\n",
       "      <td>Male</td>\n",
       "      <td>Unknown</td>\n",
       "      <td>Living</td>\n",
       "      <td>1237.0</td>\n",
       "      <td>1940.0</td>\n",
       "      <td>April</td>\n",
       "    </tr>\n",
       "  </tbody>\n",
       "</table>\n",
       "</div>"
      ],
      "text/plain": [
       "                supername    humanname                              urlslug  \\\n",
       "page_id                                                                       \n",
       "1422              Batman   Bruce Wayne         \\/wiki\\/Batman_(Bruce_Wayne)   \n",
       "23387           Superman    Clark Kent        \\/wiki\\/Superman_(Clark_Kent)   \n",
       "1458       Green Lantern    Hal Jordan   \\/wiki\\/Green_Lantern_(Hal_Jordan)   \n",
       "1659        James Gordon     New Earth     \\/wiki\\/James_Gordon_(New_Earth)   \n",
       "1576     Richard Grayson     New Earth  \\/wiki\\/Richard_Grayson_(New_Earth)   \n",
       "\n",
       "             ID ALIGN    EYE   HAIR   SEX      GSM   ALIVE  APPEARANCES  \\\n",
       "page_id                                                                   \n",
       "1422     Secret  Good   Blue  Black  Male  Unknown  Living       3093.0   \n",
       "23387    Secret  Good   Blue  Black  Male  Unknown  Living       2496.0   \n",
       "1458     Secret  Good  Brown  Brown  Male  Unknown  Living       1565.0   \n",
       "1659     Public  Good  Brown  White  Male  Unknown  Living       1316.0   \n",
       "1576     Secret  Good   Blue  Black  Male  Unknown  Living       1237.0   \n",
       "\n",
       "           YEAR      MONTH  \n",
       "page_id                     \n",
       "1422     1939.0        May  \n",
       "23387    1986.0    October  \n",
       "1458     1959.0    October  \n",
       "1659     1987.0   February  \n",
       "1576     1940.0      April  "
      ]
     },
     "execution_count": 17,
     "metadata": {},
     "output_type": "execute_result"
    }
   ],
   "source": [
    "my_data.head()"
   ]
  }
 ],
 "metadata": {
  "kernelspec": {
   "display_name": ".venv",
   "language": "python",
   "name": "python3"
  },
  "language_info": {
   "codemirror_mode": {
    "name": "ipython",
    "version": 3
   },
   "file_extension": ".py",
   "mimetype": "text/x-python",
   "name": "python",
   "nbconvert_exporter": "python",
   "pygments_lexer": "ipython3",
   "version": "3.13.3"
  }
 },
 "nbformat": 4,
 "nbformat_minor": 5
}
