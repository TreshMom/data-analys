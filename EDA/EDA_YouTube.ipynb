{
 "cells": [
  {
   "cell_type": "code",
   "execution_count": 1,
   "id": "ccc26cc6",
   "metadata": {},
   "outputs": [],
   "source": [
    "import pandas as pd\n",
    "import charset_normalizer\n",
    "import seaborn as sns\n",
    "\n",
    "from collections import Counter"
   ]
  },
  {
   "cell_type": "code",
   "execution_count": null,
   "id": "2b98747b",
   "metadata": {},
   "outputs": [
    {
     "data": {
      "application/vnd.microsoft.datawrangler.viewer.v0+json": {
       "columns": [
        {
         "name": "index",
         "rawType": "int64",
         "type": "integer"
        },
        {
         "name": "video_id",
         "rawType": "object",
         "type": "string"
        },
        {
         "name": "title",
         "rawType": "object",
         "type": "string"
        },
        {
         "name": "publishedAt",
         "rawType": "object",
         "type": "string"
        },
        {
         "name": "channelId",
         "rawType": "object",
         "type": "string"
        },
        {
         "name": "channelTitle",
         "rawType": "object",
         "type": "string"
        },
        {
         "name": "categoryId",
         "rawType": "int64",
         "type": "integer"
        },
        {
         "name": "trending_date",
         "rawType": "object",
         "type": "string"
        },
        {
         "name": "tags",
         "rawType": "object",
         "type": "string"
        },
        {
         "name": "view_count",
         "rawType": "int64",
         "type": "integer"
        },
        {
         "name": "likes",
         "rawType": "int64",
         "type": "integer"
        },
        {
         "name": "dislikes",
         "rawType": "int64",
         "type": "integer"
        },
        {
         "name": "comment_count",
         "rawType": "int64",
         "type": "integer"
        },
        {
         "name": "thumbnail_link",
         "rawType": "object",
         "type": "string"
        },
        {
         "name": "comments_disabled",
         "rawType": "bool",
         "type": "boolean"
        },
        {
         "name": "ratings_disabled",
         "rawType": "bool",
         "type": "boolean"
        },
        {
         "name": "description",
         "rawType": "object",
         "type": "string"
        }
       ],
       "ref": "ccde4849-6af1-4d05-a966-c7558feff97f",
       "rows": [
        [
         "0",
         "e_Z6upbeYuc",
         "Побег Из КАРТОННОЙ ТЮРЬМЫ Челлендж **2 часть**",
         "2020-08-12T09:00:16Z",
         "UC2tsySbe9TNrI-xh2lximHA",
         "A4",
         "24",
         "2020-08-12T00:00:00Z",
         "Побег Из КАРТОННОЙ ТЮРЬМЫ Челлендж **2 часть**|Побег Из КАРТОННОЙ ТЮРЬМЫ Челлендж 2 часть|Побег Из КАРТОННОЙ ТЮРЬМЫ Челлендж|Побег Из КАРТОННОЙ ТЮРЬМЫ|Побег Из ТЮРЬМЫ|Картонная тюрьма|тюрьма|побег|побег из тюрьмы челлендж|картонная тюрьма|картонный лабиринт|картон|картонный|а4 тюрьма|а4 картонная тюрьма|а4 картон|Челлендж|Влад Бумага|Влад А4|А4",
         "5173063",
         "1052986",
         "29927",
         "63557",
         "https://i.ytimg.com/vi/e_Z6upbeYuc/default.jpg",
         "False",
         "False",
         "Новые кроссовки Reebok Classic Leather Legacy - выбирай свою расцветку по ссылке: https://clck.ru/PyARL*****Покупай новый Мерч А4 «Ламба&Гелик» на сайте - https://a4shop.ruМоя НОВАЯ ИГРА «А4 - Убеги от хейтеров» по ссылке - https://runawaychallenge.onelink.me/PmE5/b4c196deКанал ГЛЕНТА - https://bit.ly/2Gwxge4Качай МОЁ приложение «А4 Головоломки» по ссылке - https://a4logic.by/goКачай еще одно МОЁ приложение “А4 Колесо фортуны” по ссылке - https://a4roulette.onelink.me/v63S/go *****В этом ролике мы оказались в ТЮРЬМЕ которая защищена еще лучше и нам предстоит из нее выбраться !!! Но чтобы выйти на свободу, нам пришлось пробраться через различные картонные комнаты и коридоры решая головоломки !!! Мы устроили настоящий ЭПИЧНЫЙ ПОБЕГ ИЗ КАРТОННОЙ ТЮРЬМЫ !!!Этот ролик получился ОЧЕНЬ ИНТЕРЕСНЫМ и ВЕСЕЛЫМ !!! Смотри ДО КОНЦА и поддержи нас ЛАЙКОМ !!!*****● Instagram - https://www.instagram.com/a4omgПОДПИСЫВАЙСЯ ЧТОБЫ УВЕЛИЧИТЬ МОЮ САМООЦЕНКУ !) ▶️ РЕКЛАМА, СОТРУДНИЧЕСТВО: a4a4a4a4pr@gmail.com▶️ПРОШЛОЕ ВИДЕО - https://youtu.be/LvUZtzK0hA4● Моя партнерская сеть MediaCube :  http://bit.ly/A4_mcn● Instagram - https://www.instagram.com/a4omg● VKontakte: https://vk.com/id240651878● Паблик VK : https://vk.com/a4_tv● TikTok - https://vm.tiktok.com/qwHt6j/"
        ],
        [
         "1",
         "X5j69JMlbwM",
         "DAVA & Филипп Киркоров – РОЛЕКС (Премьера клипа 2020)",
         "2020-08-12T09:00:10Z",
         "UCbh7BxJWCMnWLwJ-traa6Wg",
         "DAVA",
         "22",
         "2020-08-12T00:00:00Z",
         "РОЛЕКС|DAVA|Киркоров|2020|музыка в машину|музыка|премьера|new music|music 2020|премьера клипа|песня|песни|car music|клипы|music|songs|new song|songs 2020|new song 2020|new songs",
         "636749",
         "58770",
         "28133",
         "5051",
         "https://i.ytimg.com/vi/X5j69JMlbwM/default.jpg",
         "False",
         "False",
         "#Dava #ФилиппКиркоров #Ролекс #Music С огромным волнением и гордостью представляю вам нашу совместную работу с Филиппом Киркоровым. Лучший клип 2020 года - DAVA ft. Филипп Киркоров - Ролекс! Проделана огромная работа, и результат превзошел все мои ожидания. Лучшая музыка, лучший клип! Филипп, в совершенно новом крутом образе, залетел в новую школу и показал всем, кто тут Король!Жду ваших комментариев!Слушай РОЛЕКС:Apple Music - https://band.link/dava_fk_rolexVK - http://bit.ly/2PIqGFZСпасибо лучшей команде за работу:Production: @magfilmshowDirector: @alexey_k_golubev Producers: @maryved, @alex.zheltukhin1AD: @agromkovaDOP: @zenkovichantonArt Direction: @muratovamStyle: @darieturova, @arsenairapetovEdit&CG: @tetievskiyColor: @orelcolorза крутые грилзы спасибо: https://instagram.com/smilestudio__ss?igshid=189m8ohc00swz"
        ],
        [
         "2",
         "FzJjlIzZlVc",
         "Как Я ЧУТЬ НЕ УМЕР 2 (анимация)",
         "2020-08-12T10:00:02Z",
         "UCLNrn6a4Co8D6H7jRZtNPcA",
         "X2DED",
         "1",
         "2020-08-12T00:00:00Z",
         "как я чуть не умер|чуть не умер|история из жизни|как я чуть не умер анимация|как я чуть не умер 2|анимация|x2ded|повезло|канализация|аниме|чуть не погиб|чуть не умер в канализации|чуть не утонул|чуть не захлебнулся|сорвало дно|мои истории|на реальных событиях|истории с кентом|мои истории из жизни|икс2дед|икс два дед|смешные истории|случай из жизни|моя история аниме",
         "359904",
         "45025",
         "438",
         "2793",
         "https://i.ytimg.com/vi/FzJjlIzZlVc/default.jpg",
         "False",
         "False",
         "Это история анимация о том как я чуть не умер , любил же я находить всякие приключения. Здесь чуть не умер и я и кент.Моя группа ВК        https://vk.com/x2dedМоя страница ВК   https://vk.com/vxtudedМой Инстаграм      https://www.instagram.com/X2DED/Discord                      https://discord.gg/Gx2drzu#анимация#канализация#чутьнеумер"
        ],
        [
         "3",
         "oD3FOzQDuy0",
         "ВЫРВАЛАСЬ и УЛЕТЕЛА!!! / ТУРИЗМ 2020",
         "2020-08-12T09:00:50Z",
         "UCC83eap-hc6uFQHRJ2F2LNg",
         "TheKateClapp",
         "22",
         "2020-08-12T00:00:00Z",
         "катя|клэп|катюша|kate|clapp|детское|школа|смешное|видео|haul|тренды|для детей|стиль|клэпп|катюшка|vlog|влог|пупы|пуп|нарезка|лол|funny|детям|топ|подборка|смешных|моментов|в школу|youtube|kawaii|cute|отношения|с кем встречается|style|мода|мемы|изучение|игра|kpop|k-pop|к поп|кпоп|щенки|беременность|дома|новый|как найти|неделя|влогов|tiktok|tik tok|тикток|тик ток|лучшее|карантин|аэрофлот|рецепт|туризм|2020|новости|границы|когда откроют|открыли|виза|самолет|spa|спа",
         "355978",
         "64073",
         "585",
         "2771",
         "https://i.ytimg.com/vi/oD3FOzQDuy0/default.jpg",
         "False",
         "False",
         "Вырвалась из КАРАНТИНА! Лучшее, что случилось за 2020й год! #staycationСегодня в ролике поделюсь советами и секретами, как отдохнуть этим летом без вреда и с ОРОМ на весь дом! Просьба пристегнуть ремни безопасности, капитан предупреждает, что впереди будет ШИЗА!Рецепты, D.I.Y. и просто моральная помощь всем, кто думал, что потерял это лето! :)Все продукты линейки SOS Aussie можно приобрести тут: https://clc.to/aussie_wbINSTAGRAM http://instagram.com/kateclappTIKTOK kateclappofficial ASKFM http://bit.ly/ASK_Kate_ClappTWITTER http://twitter.com/kate_clappFACEBOOK https://www.facebook.com/kateclappfansVKONTAKTE http://vkontakte.ru/kate_clappСпасибо за просмотр! :PХорошего дня!"
        ],
        [
         "4",
         "26gteilUAuQ",
         "Полный контакт / Соловьёв LIVE / 12 августа 2020 года",
         "2020-08-12T08:43:30Z",
         "UCQ4YOFsXjG9eXWZ6uLj2t2A",
         "Соловьёв LIVE",
         "25",
         "2020-08-12T00:00:00Z",
         "Соловьев|Владимир Соловьев|Соловьев live|soloviev live|вечер с владимиром соловьевым|соловьев трансляция|протесты в белоруссии|митинги в белоруссии|белоруссия выборы протесты аресты|задержание россиян в белоруссии|выборы в белорусии|лукашенко|выборы в белоруссии|выборы|тихановская|минск|итоги выборов|беларусь выборы|выборы в беларуси 2020|выборы 2020 беларусь|итоги выборов беларусь|беларусь выборы 2020|беларусь выборы итоги|итоги выборов белоруссия|беларусь",
         "428221",
         "19329",
         "5126",
         "1034",
         "https://i.ytimg.com/vi/26gteilUAuQ/default.jpg",
         "False",
         "False",
         "🌞 Доброе утро!📻 Устанавливаем «Полный контакт»! Владимир Соловьёв и самые уважаемые эксперты страны на протяжении четырёх часов! Присоединяйтесь!00:00 - Завтра для белорусов не будет таким, как вчера48:00 - Либерализм – это политическая саранча1:44:44 - У протестов в Хабаровске и Белоруссии – общие корни2:44:49 - Куда ведёт белорусский протест? 📻 Слушайте на http://radiovesti.ru☎ Звоните по телефону +7 495 232-15-59📱 Пишите в WhatsApp +7 903 170-63-63📺 Подписывайтесь на YouTube-канал — http://soloviev.liveЧитай нас на Telegram: https://teleg.one/SolovievLiveЧитай нас в Twitter https://twitter.com/VRSolovievЧитай нас в Instagram https://www.instagram.com/vrsolovievЧитай нас в VK https://vk.com/solovievlive"
        ]
       ],
       "shape": {
        "columns": 16,
        "rows": 5
       }
      },
      "text/html": [
       "<div>\n",
       "<style scoped>\n",
       "    .dataframe tbody tr th:only-of-type {\n",
       "        vertical-align: middle;\n",
       "    }\n",
       "\n",
       "    .dataframe tbody tr th {\n",
       "        vertical-align: top;\n",
       "    }\n",
       "\n",
       "    .dataframe thead th {\n",
       "        text-align: right;\n",
       "    }\n",
       "</style>\n",
       "<table border=\"1\" class=\"dataframe\">\n",
       "  <thead>\n",
       "    <tr style=\"text-align: right;\">\n",
       "      <th></th>\n",
       "      <th>video_id</th>\n",
       "      <th>title</th>\n",
       "      <th>publishedAt</th>\n",
       "      <th>channelId</th>\n",
       "      <th>channelTitle</th>\n",
       "      <th>categoryId</th>\n",
       "      <th>trending_date</th>\n",
       "      <th>tags</th>\n",
       "      <th>view_count</th>\n",
       "      <th>likes</th>\n",
       "      <th>dislikes</th>\n",
       "      <th>comment_count</th>\n",
       "      <th>thumbnail_link</th>\n",
       "      <th>comments_disabled</th>\n",
       "      <th>ratings_disabled</th>\n",
       "      <th>description</th>\n",
       "    </tr>\n",
       "  </thead>\n",
       "  <tbody>\n",
       "    <tr>\n",
       "      <th>0</th>\n",
       "      <td>e_Z6upbeYuc</td>\n",
       "      <td>Побег Из КАРТОННОЙ ТЮРЬМЫ Челлендж **2 часть**</td>\n",
       "      <td>2020-08-12T09:00:16Z</td>\n",
       "      <td>UC2tsySbe9TNrI-xh2lximHA</td>\n",
       "      <td>A4</td>\n",
       "      <td>24</td>\n",
       "      <td>2020-08-12T00:00:00Z</td>\n",
       "      <td>Побег Из КАРТОННОЙ ТЮРЬМЫ Челлендж **2 часть**...</td>\n",
       "      <td>5173063</td>\n",
       "      <td>1052986</td>\n",
       "      <td>29927</td>\n",
       "      <td>63557</td>\n",
       "      <td>https://i.ytimg.com/vi/e_Z6upbeYuc/default.jpg</td>\n",
       "      <td>False</td>\n",
       "      <td>False</td>\n",
       "      <td>Новые кроссовки Reebok Classic Leather Legacy ...</td>\n",
       "    </tr>\n",
       "    <tr>\n",
       "      <th>1</th>\n",
       "      <td>X5j69JMlbwM</td>\n",
       "      <td>DAVA &amp; Филипп Киркоров – РОЛЕКС (Премьера клип...</td>\n",
       "      <td>2020-08-12T09:00:10Z</td>\n",
       "      <td>UCbh7BxJWCMnWLwJ-traa6Wg</td>\n",
       "      <td>DAVA</td>\n",
       "      <td>22</td>\n",
       "      <td>2020-08-12T00:00:00Z</td>\n",
       "      <td>РОЛЕКС|DAVA|Киркоров|2020|музыка в машину|музы...</td>\n",
       "      <td>636749</td>\n",
       "      <td>58770</td>\n",
       "      <td>28133</td>\n",
       "      <td>5051</td>\n",
       "      <td>https://i.ytimg.com/vi/X5j69JMlbwM/default.jpg</td>\n",
       "      <td>False</td>\n",
       "      <td>False</td>\n",
       "      <td>#Dava #ФилиппКиркоров #Ролекс #Music С огромны...</td>\n",
       "    </tr>\n",
       "    <tr>\n",
       "      <th>2</th>\n",
       "      <td>FzJjlIzZlVc</td>\n",
       "      <td>Как Я ЧУТЬ НЕ УМЕР 2 (анимация)</td>\n",
       "      <td>2020-08-12T10:00:02Z</td>\n",
       "      <td>UCLNrn6a4Co8D6H7jRZtNPcA</td>\n",
       "      <td>X2DED</td>\n",
       "      <td>1</td>\n",
       "      <td>2020-08-12T00:00:00Z</td>\n",
       "      <td>как я чуть не умер|чуть не умер|история из жиз...</td>\n",
       "      <td>359904</td>\n",
       "      <td>45025</td>\n",
       "      <td>438</td>\n",
       "      <td>2793</td>\n",
       "      <td>https://i.ytimg.com/vi/FzJjlIzZlVc/default.jpg</td>\n",
       "      <td>False</td>\n",
       "      <td>False</td>\n",
       "      <td>Это история анимация о том как я чуть не умер ...</td>\n",
       "    </tr>\n",
       "    <tr>\n",
       "      <th>3</th>\n",
       "      <td>oD3FOzQDuy0</td>\n",
       "      <td>ВЫРВАЛАСЬ и УЛЕТЕЛА!!! / ТУРИЗМ 2020</td>\n",
       "      <td>2020-08-12T09:00:50Z</td>\n",
       "      <td>UCC83eap-hc6uFQHRJ2F2LNg</td>\n",
       "      <td>TheKateClapp</td>\n",
       "      <td>22</td>\n",
       "      <td>2020-08-12T00:00:00Z</td>\n",
       "      <td>катя|клэп|катюша|kate|clapp|детское|школа|смеш...</td>\n",
       "      <td>355978</td>\n",
       "      <td>64073</td>\n",
       "      <td>585</td>\n",
       "      <td>2771</td>\n",
       "      <td>https://i.ytimg.com/vi/oD3FOzQDuy0/default.jpg</td>\n",
       "      <td>False</td>\n",
       "      <td>False</td>\n",
       "      <td>Вырвалась из КАРАНТИНА! Лучшее, что случилось ...</td>\n",
       "    </tr>\n",
       "    <tr>\n",
       "      <th>4</th>\n",
       "      <td>26gteilUAuQ</td>\n",
       "      <td>Полный контакт / Соловьёв LIVE / 12 августа 20...</td>\n",
       "      <td>2020-08-12T08:43:30Z</td>\n",
       "      <td>UCQ4YOFsXjG9eXWZ6uLj2t2A</td>\n",
       "      <td>Соловьёв LIVE</td>\n",
       "      <td>25</td>\n",
       "      <td>2020-08-12T00:00:00Z</td>\n",
       "      <td>Соловьев|Владимир Соловьев|Соловьев live|solov...</td>\n",
       "      <td>428221</td>\n",
       "      <td>19329</td>\n",
       "      <td>5126</td>\n",
       "      <td>1034</td>\n",
       "      <td>https://i.ytimg.com/vi/26gteilUAuQ/default.jpg</td>\n",
       "      <td>False</td>\n",
       "      <td>False</td>\n",
       "      <td>🌞 Доброе утро!📻 Устанавливаем «Полный контакт»...</td>\n",
       "    </tr>\n",
       "  </tbody>\n",
       "</table>\n",
       "</div>"
      ],
      "text/plain": [
       "      video_id                                              title  \\\n",
       "0  e_Z6upbeYuc     Побег Из КАРТОННОЙ ТЮРЬМЫ Челлендж **2 часть**   \n",
       "1  X5j69JMlbwM  DAVA & Филипп Киркоров – РОЛЕКС (Премьера клип...   \n",
       "2  FzJjlIzZlVc                    Как Я ЧУТЬ НЕ УМЕР 2 (анимация)   \n",
       "3  oD3FOzQDuy0               ВЫРВАЛАСЬ и УЛЕТЕЛА!!! / ТУРИЗМ 2020   \n",
       "4  26gteilUAuQ  Полный контакт / Соловьёв LIVE / 12 августа 20...   \n",
       "\n",
       "            publishedAt                 channelId   channelTitle  categoryId  \\\n",
       "0  2020-08-12T09:00:16Z  UC2tsySbe9TNrI-xh2lximHA             A4          24   \n",
       "1  2020-08-12T09:00:10Z  UCbh7BxJWCMnWLwJ-traa6Wg           DAVA          22   \n",
       "2  2020-08-12T10:00:02Z  UCLNrn6a4Co8D6H7jRZtNPcA          X2DED           1   \n",
       "3  2020-08-12T09:00:50Z  UCC83eap-hc6uFQHRJ2F2LNg   TheKateClapp          22   \n",
       "4  2020-08-12T08:43:30Z  UCQ4YOFsXjG9eXWZ6uLj2t2A  Соловьёв LIVE          25   \n",
       "\n",
       "          trending_date                                               tags  \\\n",
       "0  2020-08-12T00:00:00Z  Побег Из КАРТОННОЙ ТЮРЬМЫ Челлендж **2 часть**...   \n",
       "1  2020-08-12T00:00:00Z  РОЛЕКС|DAVA|Киркоров|2020|музыка в машину|музы...   \n",
       "2  2020-08-12T00:00:00Z  как я чуть не умер|чуть не умер|история из жиз...   \n",
       "3  2020-08-12T00:00:00Z  катя|клэп|катюша|kate|clapp|детское|школа|смеш...   \n",
       "4  2020-08-12T00:00:00Z  Соловьев|Владимир Соловьев|Соловьев live|solov...   \n",
       "\n",
       "   view_count    likes  dislikes  comment_count  \\\n",
       "0     5173063  1052986     29927          63557   \n",
       "1      636749    58770     28133           5051   \n",
       "2      359904    45025       438           2793   \n",
       "3      355978    64073       585           2771   \n",
       "4      428221    19329      5126           1034   \n",
       "\n",
       "                                   thumbnail_link  comments_disabled  \\\n",
       "0  https://i.ytimg.com/vi/e_Z6upbeYuc/default.jpg              False   \n",
       "1  https://i.ytimg.com/vi/X5j69JMlbwM/default.jpg              False   \n",
       "2  https://i.ytimg.com/vi/FzJjlIzZlVc/default.jpg              False   \n",
       "3  https://i.ytimg.com/vi/oD3FOzQDuy0/default.jpg              False   \n",
       "4  https://i.ytimg.com/vi/26gteilUAuQ/default.jpg              False   \n",
       "\n",
       "   ratings_disabled                                        description  \n",
       "0             False  Новые кроссовки Reebok Classic Leather Legacy ...  \n",
       "1             False  #Dava #ФилиппКиркоров #Ролекс #Music С огромны...  \n",
       "2             False  Это история анимация о том как я чуть не умер ...  \n",
       "3             False  Вырвалась из КАРАНТИНА! Лучшее, что случилось ...  \n",
       "4             False  🌞 Доброе утро!📻 Устанавливаем «Полный контакт»...  "
      ]
     },
     "execution_count": 2,
     "metadata": {},
     "output_type": "execute_result"
    }
   ],
   "source": [
    "path = \"dataset/RU_youtube_trending_data.csv\"\n",
    "data = pd.read_csv(path)\n",
    "data.head()"
   ]
  },
  {
   "cell_type": "code",
   "execution_count": 3,
   "id": "7f043ff1",
   "metadata": {},
   "outputs": [
    {
     "data": {
      "application/vnd.microsoft.datawrangler.viewer.v0+json": {
       "columns": [
        {
         "name": "index",
         "rawType": "object",
         "type": "string"
        },
        {
         "name": "0",
         "rawType": "int64",
         "type": "integer"
        }
       ],
       "ref": "89e55c4a-1ee4-4ac0-b272-5ed13882fd75",
       "rows": [
        [
         "video_id",
         "0"
        ],
        [
         "title",
         "0"
        ],
        [
         "publishedAt",
         "0"
        ],
        [
         "channelId",
         "0"
        ],
        [
         "channelTitle",
         "0"
        ],
        [
         "categoryId",
         "0"
        ],
        [
         "trending_date",
         "0"
        ],
        [
         "tags",
         "0"
        ],
        [
         "view_count",
         "0"
        ],
        [
         "likes",
         "0"
        ],
        [
         "dislikes",
         "0"
        ],
        [
         "comment_count",
         "0"
        ],
        [
         "thumbnail_link",
         "0"
        ],
        [
         "comments_disabled",
         "0"
        ],
        [
         "ratings_disabled",
         "0"
        ],
        [
         "description",
         "16978"
        ]
       ],
       "shape": {
        "columns": 1,
        "rows": 16
       }
      },
      "text/plain": [
       "video_id                 0\n",
       "title                    0\n",
       "publishedAt              0\n",
       "channelId                0\n",
       "channelTitle             0\n",
       "categoryId               0\n",
       "trending_date            0\n",
       "tags                     0\n",
       "view_count               0\n",
       "likes                    0\n",
       "dislikes                 0\n",
       "comment_count            0\n",
       "thumbnail_link           0\n",
       "comments_disabled        0\n",
       "ratings_disabled         0\n",
       "description          16978\n",
       "dtype: int64"
      ]
     },
     "execution_count": 3,
     "metadata": {},
     "output_type": "execute_result"
    }
   ],
   "source": [
    "data.isnull().sum()"
   ]
  },
  {
   "cell_type": "code",
   "execution_count": 4,
   "id": "f06b44fd",
   "metadata": {},
   "outputs": [],
   "source": [
    "data[\"publishedAt\"] = pd.to_datetime(data[\"publishedAt\"], format=\"%Y-%m-%dT%H:%M:%SZ\")"
   ]
  },
  {
   "cell_type": "code",
   "execution_count": 5,
   "id": "56d1403b",
   "metadata": {},
   "outputs": [],
   "source": [
    "data[\"trending_date\"] = pd.to_datetime(data[\"trending_date\"], format=\"%Y-%m-%dT%H:%M:%SZ\")"
   ]
  },
  {
   "cell_type": "code",
   "execution_count": 6,
   "id": "8bb68292",
   "metadata": {},
   "outputs": [
    {
     "data": {
      "text/plain": [
       "<Axes: xlabel='categoryId', ylabel='likes'>"
      ]
     },
     "execution_count": 6,
     "metadata": {},
     "output_type": "execute_result"
    },
    {
     "data": {
      "image/png": "[encoded data removed]",
      "text/plain": [
       "<Figure size 640x480 with 1 Axes>"
      ]
     },
     "metadata": {},
     "output_type": "display_data"
    }
   ],
   "source": [
    "#Среднее количество лайков для каждой категории\n",
    "sns.barplot(data.groupby(\"categoryId\")[\"likes\"].mean())"
   ]
  },
  {
   "cell_type": "code",
   "execution_count": 7,
   "id": "d128205e",
   "metadata": {},
   "outputs": [],
   "source": [
    "data[\"delta\"] = (data[\"trending_date\"] - data[\"publishedAt\"]).dt.total_seconds() / 3600"
   ]
  },
  {
   "cell_type": "code",
   "execution_count": 8,
   "id": "0e95ccc8",
   "metadata": {},
   "outputs": [
    {
     "data": {
      "application/vnd.microsoft.datawrangler.viewer.v0+json": {
       "columns": [
        {
         "name": "categoryId",
         "rawType": "int64",
         "type": "integer"
        },
        {
         "name": "mean",
         "rawType": "float64",
         "type": "float"
        },
        {
         "name": "std",
         "rawType": "float64",
         "type": "float"
        },
        {
         "name": "min",
         "rawType": "float64",
         "type": "float"
        },
        {
         "name": "max",
         "rawType": "float64",
         "type": "float"
        }
       ],
       "ref": "a90c6720-f2ea-4ca9-abd0-cdb327fcfd48",
       "rows": [
        [
         "1",
         "25.94306830104476",
         "33.23825966197458",
         "-15.317222222222222",
         "708.9852777777778"
        ],
        [
         "2",
         "24.679725621638475",
         "21.41609517834578",
         "-13.075833333333334",
         "532.2697222222222"
        ],
        [
         "10",
         "25.9990161058257",
         "34.21920762755424",
         "-13.801944444444445",
         "728.7488888888889"
        ],
        [
         "15",
         "32.758148339356396",
         "50.36730643001809",
         "-9.5",
         "714.9969444444445"
        ],
        [
         "17",
         "23.308616062074606",
         "34.94987258227798",
         "-14.363333333333333",
         "705.6908333333333"
        ],
        [
         "19",
         "25.956309854497352",
         "30.701269117834265",
         "-10.110555555555555",
         "595.4991666666666"
        ],
        [
         "20",
         "22.338076961546278",
         "23.89173108538813",
         "-16.717777777777776",
         "708.4"
        ],
        [
         "22",
         "27.043151817963235",
         "34.567652497840534",
         "-14.482777777777779",
         "730.1077777777778"
        ],
        [
         "23",
         "28.506133722186217",
         "36.48359385888058",
         "-12.014722222222222",
         "683.5038888888889"
        ],
        [
         "24",
         "29.355676328183847",
         "41.67114690140688",
         "-12.744166666666667",
         "727.9888888888889"
        ],
        [
         "25",
         "19.469419588378187",
         "24.709988932966493",
         "-15.34361111111111",
         "687.8155555555555"
        ],
        [
         "26",
         "38.92958126337897",
         "71.39191173578396",
         "-12.800277777777778",
         "748.9997222222222"
        ],
        [
         "27",
         "23.145445153200303",
         "27.304481904465188",
         "-9.503333333333334",
         "536.0547222222223"
        ],
        [
         "28",
         "24.293436174352987",
         "26.433609716569148",
         "-11.194722222222222",
         "685.9975"
        ],
        [
         "29",
         "21.71946034655637",
         "28.332254407852126",
         "-12.801388888888889",
         "608.3397222222222"
        ]
       ],
       "shape": {
        "columns": 4,
        "rows": 15
       }
      },
      "text/html": [
       "<div>\n",
       "<style scoped>\n",
       "    .dataframe tbody tr th:only-of-type {\n",
       "        vertical-align: middle;\n",
       "    }\n",
       "\n",
       "    .dataframe tbody tr th {\n",
       "        vertical-align: top;\n",
       "    }\n",
       "\n",
       "    .dataframe thead th {\n",
       "        text-align: right;\n",
       "    }\n",
       "</style>\n",
       "<table border=\"1\" class=\"dataframe\">\n",
       "  <thead>\n",
       "    <tr style=\"text-align: right;\">\n",
       "      <th></th>\n",
       "      <th>mean</th>\n",
       "      <th>std</th>\n",
       "      <th>min</th>\n",
       "      <th>max</th>\n",
       "    </tr>\n",
       "    <tr>\n",
       "      <th>categoryId</th>\n",
       "      <th></th>\n",
       "      <th></th>\n",
       "      <th></th>\n",
       "      <th></th>\n",
       "    </tr>\n",
       "  </thead>\n",
       "  <tbody>\n",
       "    <tr>\n",
       "      <th>1</th>\n",
       "      <td>25.943068</td>\n",
       "      <td>33.238260</td>\n",
       "      <td>-15.317222</td>\n",
       "      <td>708.985278</td>\n",
       "    </tr>\n",
       "    <tr>\n",
       "      <th>2</th>\n",
       "      <td>24.679726</td>\n",
       "      <td>21.416095</td>\n",
       "      <td>-13.075833</td>\n",
       "      <td>532.269722</td>\n",
       "    </tr>\n",
       "    <tr>\n",
       "      <th>10</th>\n",
       "      <td>25.999016</td>\n",
       "      <td>34.219208</td>\n",
       "      <td>-13.801944</td>\n",
       "      <td>728.748889</td>\n",
       "    </tr>\n",
       "    <tr>\n",
       "      <th>15</th>\n",
       "      <td>32.758148</td>\n",
       "      <td>50.367306</td>\n",
       "      <td>-9.500000</td>\n",
       "      <td>714.996944</td>\n",
       "    </tr>\n",
       "    <tr>\n",
       "      <th>17</th>\n",
       "      <td>23.308616</td>\n",
       "      <td>34.949873</td>\n",
       "      <td>-14.363333</td>\n",
       "      <td>705.690833</td>\n",
       "    </tr>\n",
       "    <tr>\n",
       "      <th>19</th>\n",
       "      <td>25.956310</td>\n",
       "      <td>30.701269</td>\n",
       "      <td>-10.110556</td>\n",
       "      <td>595.499167</td>\n",
       "    </tr>\n",
       "    <tr>\n",
       "      <th>20</th>\n",
       "      <td>22.338077</td>\n",
       "      <td>23.891731</td>\n",
       "      <td>-16.717778</td>\n",
       "      <td>708.400000</td>\n",
       "    </tr>\n",
       "    <tr>\n",
       "      <th>22</th>\n",
       "      <td>27.043152</td>\n",
       "      <td>34.567652</td>\n",
       "      <td>-14.482778</td>\n",
       "      <td>730.107778</td>\n",
       "    </tr>\n",
       "    <tr>\n",
       "      <th>23</th>\n",
       "      <td>28.506134</td>\n",
       "      <td>36.483594</td>\n",
       "      <td>-12.014722</td>\n",
       "      <td>683.503889</td>\n",
       "    </tr>\n",
       "    <tr>\n",
       "      <th>24</th>\n",
       "      <td>29.355676</td>\n",
       "      <td>41.671147</td>\n",
       "      <td>-12.744167</td>\n",
       "      <td>727.988889</td>\n",
       "    </tr>\n",
       "    <tr>\n",
       "      <th>25</th>\n",
       "      <td>19.469420</td>\n",
       "      <td>24.709989</td>\n",
       "      <td>-15.343611</td>\n",
       "      <td>687.815556</td>\n",
       "    </tr>\n",
       "    <tr>\n",
       "      <th>26</th>\n",
       "      <td>38.929581</td>\n",
       "      <td>71.391912</td>\n",
       "      <td>-12.800278</td>\n",
       "      <td>748.999722</td>\n",
       "    </tr>\n",
       "    <tr>\n",
       "      <th>27</th>\n",
       "      <td>23.145445</td>\n",
       "      <td>27.304482</td>\n",
       "      <td>-9.503333</td>\n",
       "      <td>536.054722</td>\n",
       "    </tr>\n",
       "    <tr>\n",
       "      <th>28</th>\n",
       "      <td>24.293436</td>\n",
       "      <td>26.433610</td>\n",
       "      <td>-11.194722</td>\n",
       "      <td>685.997500</td>\n",
       "    </tr>\n",
       "    <tr>\n",
       "      <th>29</th>\n",
       "      <td>21.719460</td>\n",
       "      <td>28.332254</td>\n",
       "      <td>-12.801389</td>\n",
       "      <td>608.339722</td>\n",
       "    </tr>\n",
       "  </tbody>\n",
       "</table>\n",
       "</div>"
      ],
      "text/plain": [
       "                 mean        std        min         max\n",
       "categoryId                                             \n",
       "1           25.943068  33.238260 -15.317222  708.985278\n",
       "2           24.679726  21.416095 -13.075833  532.269722\n",
       "10          25.999016  34.219208 -13.801944  728.748889\n",
       "15          32.758148  50.367306  -9.500000  714.996944\n",
       "17          23.308616  34.949873 -14.363333  705.690833\n",
       "19          25.956310  30.701269 -10.110556  595.499167\n",
       "20          22.338077  23.891731 -16.717778  708.400000\n",
       "22          27.043152  34.567652 -14.482778  730.107778\n",
       "23          28.506134  36.483594 -12.014722  683.503889\n",
       "24          29.355676  41.671147 -12.744167  727.988889\n",
       "25          19.469420  24.709989 -15.343611  687.815556\n",
       "26          38.929581  71.391912 -12.800278  748.999722\n",
       "27          23.145445  27.304482  -9.503333  536.054722\n",
       "28          24.293436  26.433610 -11.194722  685.997500\n",
       "29          21.719460  28.332254 -12.801389  608.339722"
      ]
     },
     "execution_count": 8,
     "metadata": {},
     "output_type": "execute_result"
    }
   ],
   "source": [
    "mean_time_between_create_and_trend = data.groupby(\"categoryId\")[\"delta\"].agg([\"mean\", \"std\", \"min\", \"max\"])\n",
    "mean_time_between_create_and_trend"
   ]
  },
  {
   "cell_type": "code",
   "execution_count": 9,
   "id": "ce697e83",
   "metadata": {},
   "outputs": [
    {
     "data": {
      "text/plain": [
       "<Axes: >"
      ]
     },
     "execution_count": 9,
     "metadata": {},
     "output_type": "execute_result"
    },
    {
     "data": {
      "image/png": "[encoded data removed]",
      "text/plain": [
       "<Figure size 640x480 with 1 Axes>"
      ]
     },
     "metadata": {},
     "output_type": "display_data"
    }
   ],
   "source": [
    "sns.barplot(mean_time_between_create_and_trend)"
   ]
  },
  {
   "cell_type": "code",
   "execution_count": 10,
   "id": "3dbda687",
   "metadata": {},
   "outputs": [
    {
     "name": "stdout",
     "output_type": "stream",
     "text": [
      "5519904\n"
     ]
    },
    {
     "data": {
      "image/png": "[encoded data removed]",
      "text/plain": [
       "<Figure size 640x480 with 1 Axes>"
      ]
     },
     "metadata": {},
     "output_type": "display_data"
    }
   ],
   "source": [
    "import matplotlib.pyplot as plt\n",
    "\n",
    "category_1_likes = data[\"likes\"][data[\"categoryId\"] == 1]\n",
    "\n",
    "#category_1_likes = (category_1_likes - category_1_likes.mean()) / category_1_likes.std()\n",
    "sns.histplot(x=category_1_likes)\n",
    "print(category_1_likes.max())"
   ]
  },
  {
   "cell_type": "code",
   "execution_count": 11,
   "id": "586c2e0f",
   "metadata": {},
   "outputs": [
    {
     "data": {
      "application/vnd.microsoft.datawrangler.viewer.v0+json": {
       "columns": [
        {
         "name": "categoryId",
         "rawType": "int64",
         "type": "integer"
        },
        {
         "name": "min",
         "rawType": "int64",
         "type": "integer"
        },
        {
         "name": "max",
         "rawType": "int64",
         "type": "integer"
        },
        {
         "name": "mean",
         "rawType": "float64",
         "type": "float"
        },
        {
         "name": "std",
         "rawType": "float64",
         "type": "float"
        },
        {
         "name": "count",
         "rawType": "int64",
         "type": "integer"
        }
       ],
       "ref": "fa72754b-b5ac-42da-9b8f-6a2c301fe781",
       "rows": [
        [
         "1",
         "0",
         "5519904",
         "31564.377709801836",
         "115377.59979306803",
         "15038"
        ],
        [
         "2",
         "0",
         "1258426",
         "30835.626393327617",
         "41618.55546589766",
         "12829"
        ],
        [
         "10",
         "0",
         "14678180",
         "181259.32736522198",
         "646503.7746848161",
         "15136"
        ],
        [
         "15",
         "0",
         "1278459",
         "45334.40991223542",
         "88930.66332734862",
         "1937"
        ],
        [
         "17",
         "0",
         "6752251",
         "28254.38609404465",
         "120613.00186817776",
         "16439"
        ],
        [
         "19",
         "0",
         "1195345",
         "25652.76845238095",
         "55391.887313137595",
         "1680"
        ],
        [
         "20",
         "0",
         "10405236",
         "43297.64417684906",
         "124418.20785046706",
         "33882"
        ],
        [
         "22",
         "0",
         "3867285",
         "38521.58124382556",
         "86344.40108911226",
         "42514"
        ],
        [
         "23",
         "0",
         "8278389",
         "48623.81568373299",
         "135507.77649148653",
         "15430"
        ],
        [
         "24",
         "0",
         "7582686",
         "100092.84875102213",
         "285620.59570984513",
         "37911"
        ],
        [
         "25",
         "0",
         "1196202",
         "22811.27316233431",
         "46985.3379762842",
         "29045"
        ],
        [
         "26",
         "0",
         "1896888",
         "31560.48455107234",
         "81750.88314205834",
         "5502"
        ],
        [
         "27",
         "0",
         "400815",
         "12334.136408243376",
         "17994.698520984133",
         "2038"
        ],
        [
         "28",
         "0",
         "3043186",
         "37591.48581436077",
         "89069.72128681613",
         "5710"
        ],
        [
         "29",
         "0",
         "3926283",
         "39311.80738860688",
         "153841.07405154692",
         "3546"
        ]
       ],
       "shape": {
        "columns": 5,
        "rows": 15
       }
      },
      "text/html": [
       "<div>\n",
       "<style scoped>\n",
       "    .dataframe tbody tr th:only-of-type {\n",
       "        vertical-align: middle;\n",
       "    }\n",
       "\n",
       "    .dataframe tbody tr th {\n",
       "        vertical-align: top;\n",
       "    }\n",
       "\n",
       "    .dataframe thead th {\n",
       "        text-align: right;\n",
       "    }\n",
       "</style>\n",
       "<table border=\"1\" class=\"dataframe\">\n",
       "  <thead>\n",
       "    <tr style=\"text-align: right;\">\n",
       "      <th></th>\n",
       "      <th>min</th>\n",
       "      <th>max</th>\n",
       "      <th>mean</th>\n",
       "      <th>std</th>\n",
       "      <th>count</th>\n",
       "    </tr>\n",
       "    <tr>\n",
       "      <th>categoryId</th>\n",
       "      <th></th>\n",
       "      <th></th>\n",
       "      <th></th>\n",
       "      <th></th>\n",
       "      <th></th>\n",
       "    </tr>\n",
       "  </thead>\n",
       "  <tbody>\n",
       "    <tr>\n",
       "      <th>1</th>\n",
       "      <td>0</td>\n",
       "      <td>5519904</td>\n",
       "      <td>31564.377710</td>\n",
       "      <td>115377.599793</td>\n",
       "      <td>15038</td>\n",
       "    </tr>\n",
       "    <tr>\n",
       "      <th>2</th>\n",
       "      <td>0</td>\n",
       "      <td>1258426</td>\n",
       "      <td>30835.626393</td>\n",
       "      <td>41618.555466</td>\n",
       "      <td>12829</td>\n",
       "    </tr>\n",
       "    <tr>\n",
       "      <th>10</th>\n",
       "      <td>0</td>\n",
       "      <td>14678180</td>\n",
       "      <td>181259.327365</td>\n",
       "      <td>646503.774685</td>\n",
       "      <td>15136</td>\n",
       "    </tr>\n",
       "    <tr>\n",
       "      <th>15</th>\n",
       "      <td>0</td>\n",
       "      <td>1278459</td>\n",
       "      <td>45334.409912</td>\n",
       "      <td>88930.663327</td>\n",
       "      <td>1937</td>\n",
       "    </tr>\n",
       "    <tr>\n",
       "      <th>17</th>\n",
       "      <td>0</td>\n",
       "      <td>6752251</td>\n",
       "      <td>28254.386094</td>\n",
       "      <td>120613.001868</td>\n",
       "      <td>16439</td>\n",
       "    </tr>\n",
       "    <tr>\n",
       "      <th>19</th>\n",
       "      <td>0</td>\n",
       "      <td>1195345</td>\n",
       "      <td>25652.768452</td>\n",
       "      <td>55391.887313</td>\n",
       "      <td>1680</td>\n",
       "    </tr>\n",
       "    <tr>\n",
       "      <th>20</th>\n",
       "      <td>0</td>\n",
       "      <td>10405236</td>\n",
       "      <td>43297.644177</td>\n",
       "      <td>124418.207850</td>\n",
       "      <td>33882</td>\n",
       "    </tr>\n",
       "    <tr>\n",
       "      <th>22</th>\n",
       "      <td>0</td>\n",
       "      <td>3867285</td>\n",
       "      <td>38521.581244</td>\n",
       "      <td>86344.401089</td>\n",
       "      <td>42514</td>\n",
       "    </tr>\n",
       "    <tr>\n",
       "      <th>23</th>\n",
       "      <td>0</td>\n",
       "      <td>8278389</td>\n",
       "      <td>48623.815684</td>\n",
       "      <td>135507.776491</td>\n",
       "      <td>15430</td>\n",
       "    </tr>\n",
       "    <tr>\n",
       "      <th>24</th>\n",
       "      <td>0</td>\n",
       "      <td>7582686</td>\n",
       "      <td>100092.848751</td>\n",
       "      <td>285620.595710</td>\n",
       "      <td>37911</td>\n",
       "    </tr>\n",
       "    <tr>\n",
       "      <th>25</th>\n",
       "      <td>0</td>\n",
       "      <td>1196202</td>\n",
       "      <td>22811.273162</td>\n",
       "      <td>46985.337976</td>\n",
       "      <td>29045</td>\n",
       "    </tr>\n",
       "    <tr>\n",
       "      <th>26</th>\n",
       "      <td>0</td>\n",
       "      <td>1896888</td>\n",
       "      <td>31560.484551</td>\n",
       "      <td>81750.883142</td>\n",
       "      <td>5502</td>\n",
       "    </tr>\n",
       "    <tr>\n",
       "      <th>27</th>\n",
       "      <td>0</td>\n",
       "      <td>400815</td>\n",
       "      <td>12334.136408</td>\n",
       "      <td>17994.698521</td>\n",
       "      <td>2038</td>\n",
       "    </tr>\n",
       "    <tr>\n",
       "      <th>28</th>\n",
       "      <td>0</td>\n",
       "      <td>3043186</td>\n",
       "      <td>37591.485814</td>\n",
       "      <td>89069.721287</td>\n",
       "      <td>5710</td>\n",
       "    </tr>\n",
       "    <tr>\n",
       "      <th>29</th>\n",
       "      <td>0</td>\n",
       "      <td>3926283</td>\n",
       "      <td>39311.807389</td>\n",
       "      <td>153841.074052</td>\n",
       "      <td>3546</td>\n",
       "    </tr>\n",
       "  </tbody>\n",
       "</table>\n",
       "</div>"
      ],
      "text/plain": [
       "            min       max           mean            std  count\n",
       "categoryId                                                    \n",
       "1             0   5519904   31564.377710  115377.599793  15038\n",
       "2             0   1258426   30835.626393   41618.555466  12829\n",
       "10            0  14678180  181259.327365  646503.774685  15136\n",
       "15            0   1278459   45334.409912   88930.663327   1937\n",
       "17            0   6752251   28254.386094  120613.001868  16439\n",
       "19            0   1195345   25652.768452   55391.887313   1680\n",
       "20            0  10405236   43297.644177  124418.207850  33882\n",
       "22            0   3867285   38521.581244   86344.401089  42514\n",
       "23            0   8278389   48623.815684  135507.776491  15430\n",
       "24            0   7582686  100092.848751  285620.595710  37911\n",
       "25            0   1196202   22811.273162   46985.337976  29045\n",
       "26            0   1896888   31560.484551   81750.883142   5502\n",
       "27            0    400815   12334.136408   17994.698521   2038\n",
       "28            0   3043186   37591.485814   89069.721287   5710\n",
       "29            0   3926283   39311.807389  153841.074052   3546"
      ]
     },
     "execution_count": 11,
     "metadata": {},
     "output_type": "execute_result"
    }
   ],
   "source": [
    "#Основная информация о лайках для каждой трендовой группы\n",
    "info_about_likes_avarage_group = data.groupby(\"categoryId\")[\"likes\"].agg([\"min\", \"max\", \"mean\", \"std\", \"count\"])\n",
    "info_about_likes_avarage_group"
   ]
  },
  {
   "cell_type": "code",
   "execution_count": 12,
   "id": "05d0b6ef",
   "metadata": {},
   "outputs": [
    {
     "data": {
      "text/plain": [
       "<Axes: xlabel='categoryId', ylabel='categoryId'>"
      ]
     },
     "execution_count": 12,
     "metadata": {},
     "output_type": "execute_result"
    },
    {
     "data": {
      "image/png": "[encoded data removed]",
      "text/plain": [
       "<Figure size 640x480 with 1 Axes>"
      ]
     },
     "metadata": {},
     "output_type": "display_data"
    }
   ],
   "source": [
    "sns.barplot(data.groupby(\"categoryId\")[\"categoryId\"].count())\n",
    "#Сколько трендовых видео было в каждой группе"
   ]
  },
  {
   "cell_type": "code",
   "execution_count": 13,
   "id": "0a2fde35",
   "metadata": {},
   "outputs": [],
   "source": [
    "#Можно посмотреть на соотношение лайков и комментов в каждой группе, лайков и дислайков"
   ]
  },
  {
   "cell_type": "code",
   "execution_count": 14,
   "id": "f6c0b1c5",
   "metadata": {},
   "outputs": [
    {
     "data": {
      "application/vnd.microsoft.datawrangler.viewer.v0+json": {
       "columns": [
        {
         "name": "categoryId",
         "rawType": "int64",
         "type": "integer"
        },
        {
         "name": "min",
         "rawType": "float64",
         "type": "float"
        },
        {
         "name": "max",
         "rawType": "float64",
         "type": "float"
        }
       ],
       "ref": "03df5b98-8f7d-4444-9b1a-538db9a111ae",
       "rows": [
        [
         "1",
         "0.0",
         "inf"
        ],
        [
         "2",
         "0.0",
         "inf"
        ],
        [
         "10",
         "0.0",
         "inf"
        ],
        [
         "15",
         "0.0",
         "inf"
        ],
        [
         "17",
         "0.0",
         "inf"
        ],
        [
         "19",
         "0.0",
         "inf"
        ],
        [
         "20",
         "0.0",
         "inf"
        ],
        [
         "22",
         "0.0",
         "inf"
        ],
        [
         "23",
         "0.0",
         "inf"
        ],
        [
         "24",
         "0.0",
         "inf"
        ],
        [
         "25",
         "0.0",
         "inf"
        ],
        [
         "26",
         "0.0",
         "inf"
        ],
        [
         "27",
         "0.0",
         "inf"
        ],
        [
         "28",
         "0.0",
         "inf"
        ],
        [
         "29",
         "0.0",
         "inf"
        ]
       ],
       "shape": {
        "columns": 2,
        "rows": 15
       }
      },
      "text/html": [
       "<div>\n",
       "<style scoped>\n",
       "    .dataframe tbody tr th:only-of-type {\n",
       "        vertical-align: middle;\n",
       "    }\n",
       "\n",
       "    .dataframe tbody tr th {\n",
       "        vertical-align: top;\n",
       "    }\n",
       "\n",
       "    .dataframe thead th {\n",
       "        text-align: right;\n",
       "    }\n",
       "</style>\n",
       "<table border=\"1\" class=\"dataframe\">\n",
       "  <thead>\n",
       "    <tr style=\"text-align: right;\">\n",
       "      <th></th>\n",
       "      <th>min</th>\n",
       "      <th>max</th>\n",
       "    </tr>\n",
       "    <tr>\n",
       "      <th>categoryId</th>\n",
       "      <th></th>\n",
       "      <th></th>\n",
       "    </tr>\n",
       "  </thead>\n",
       "  <tbody>\n",
       "    <tr>\n",
       "      <th>1</th>\n",
       "      <td>0.0</td>\n",
       "      <td>inf</td>\n",
       "    </tr>\n",
       "    <tr>\n",
       "      <th>2</th>\n",
       "      <td>0.0</td>\n",
       "      <td>inf</td>\n",
       "    </tr>\n",
       "    <tr>\n",
       "      <th>10</th>\n",
       "      <td>0.0</td>\n",
       "      <td>inf</td>\n",
       "    </tr>\n",
       "    <tr>\n",
       "      <th>15</th>\n",
       "      <td>0.0</td>\n",
       "      <td>inf</td>\n",
       "    </tr>\n",
       "    <tr>\n",
       "      <th>17</th>\n",
       "      <td>0.0</td>\n",
       "      <td>inf</td>\n",
       "    </tr>\n",
       "    <tr>\n",
       "      <th>19</th>\n",
       "      <td>0.0</td>\n",
       "      <td>inf</td>\n",
       "    </tr>\n",
       "    <tr>\n",
       "      <th>20</th>\n",
       "      <td>0.0</td>\n",
       "      <td>inf</td>\n",
       "    </tr>\n",
       "    <tr>\n",
       "      <th>22</th>\n",
       "      <td>0.0</td>\n",
       "      <td>inf</td>\n",
       "    </tr>\n",
       "    <tr>\n",
       "      <th>23</th>\n",
       "      <td>0.0</td>\n",
       "      <td>inf</td>\n",
       "    </tr>\n",
       "    <tr>\n",
       "      <th>24</th>\n",
       "      <td>0.0</td>\n",
       "      <td>inf</td>\n",
       "    </tr>\n",
       "    <tr>\n",
       "      <th>25</th>\n",
       "      <td>0.0</td>\n",
       "      <td>inf</td>\n",
       "    </tr>\n",
       "    <tr>\n",
       "      <th>26</th>\n",
       "      <td>0.0</td>\n",
       "      <td>inf</td>\n",
       "    </tr>\n",
       "    <tr>\n",
       "      <th>27</th>\n",
       "      <td>0.0</td>\n",
       "      <td>inf</td>\n",
       "    </tr>\n",
       "    <tr>\n",
       "      <th>28</th>\n",
       "      <td>0.0</td>\n",
       "      <td>inf</td>\n",
       "    </tr>\n",
       "    <tr>\n",
       "      <th>29</th>\n",
       "      <td>0.0</td>\n",
       "      <td>inf</td>\n",
       "    </tr>\n",
       "  </tbody>\n",
       "</table>\n",
       "</div>"
      ],
      "text/plain": [
       "            min  max\n",
       "categoryId          \n",
       "1           0.0  inf\n",
       "2           0.0  inf\n",
       "10          0.0  inf\n",
       "15          0.0  inf\n",
       "17          0.0  inf\n",
       "19          0.0  inf\n",
       "20          0.0  inf\n",
       "22          0.0  inf\n",
       "23          0.0  inf\n",
       "24          0.0  inf\n",
       "25          0.0  inf\n",
       "26          0.0  inf\n",
       "27          0.0  inf\n",
       "28          0.0  inf\n",
       "29          0.0  inf"
      ]
     },
     "execution_count": 14,
     "metadata": {},
     "output_type": "execute_result"
    }
   ],
   "source": [
    "data[\"likes_to_comments\"] = data[\"likes\"] / data[\"comment_count\"]\n",
    "data.groupby(\"categoryId\")[\"likes_to_comments\"].agg([\"min\", \"max\"])"
   ]
  },
  {
   "cell_type": "code",
   "execution_count": 15,
   "id": "c59d8d67",
   "metadata": {},
   "outputs": [
    {
     "data": {
      "application/vnd.microsoft.datawrangler.viewer.v0+json": {
       "columns": [
        {
         "name": "channelTitle",
         "rawType": "object",
         "type": "string"
        },
        {
         "name": "count",
         "rawType": "int64",
         "type": "integer"
        }
       ],
       "ref": "006782f7-a22b-49b4-b54d-0982039a7611",
       "rows": [
        [
         "A4",
         "1767"
        ],
        [
         "Телеканал Дождь",
         "1619"
        ],
        [
         "Матч ТВ",
         "1484"
        ],
        [
         "EdisonPts",
         "1368"
        ],
        [
         "MrLololoshka (Роман Фильченков)",
         "1248"
        ],
        [
         "Анатолий Шарий",
         "1127"
        ],
        [
         "Россия 24",
         "1079"
        ],
        [
         "Соловьёв LIVE",
         "988"
        ],
        [
         "LeBwa",
         "947"
        ],
        [
         "ФЕЙГИН LIVE",
         "869"
        ],
        [
         "Первый канал",
         "867"
        ],
        [
         "Настоящее Время",
         "796"
        ],
        [
         "Lady Diana",
         "761"
        ],
        [
         "Kuplinov ► Play",
         "719"
        ],
        [
         "Редакция",
         "708"
        ],
        [
         "Россия 1",
         "635"
        ],
        [
         "Навальный LIVE",
         "629"
        ],
        [
         "Lesha Maisak",
         "621"
        ],
        [
         "Джел",
         "568"
        ],
        [
         "НТВ",
         "557"
        ],
        [
         "Comedy Club",
         "554"
        ],
        [
         "Вести FM",
         "553"
        ],
        [
         "ГЛЕНТ",
         "553"
        ],
        [
         "FixEye",
         "544"
        ],
        [
         "DW на русском",
         "543"
        ],
        [
         "Ozodivideo",
         "537"
        ],
        [
         "Jove",
         "511"
        ],
        [
         "Дюшес",
         "509"
        ],
        [
         "Sh0tnik",
         "500"
        ],
        [
         "Телеканал ПЯТНИЦА",
         "494"
        ],
        [
         "KiKiDo",
         "477"
        ],
        [
         "Эхо Москвы",
         "460"
        ],
        [
         "windy31",
         "459"
        ],
        [
         "Александр Невзоров",
         "458"
        ],
        [
         "AcademeG",
         "444"
        ],
        [
         "Hardcore Fighting Championship",
         "439"
        ],
        [
         "ИЛЬДАР АВТО-ПОДБОР",
         "434"
        ],
        [
         "varlamov",
         "427"
        ],
        [
         "Трум Трум",
         "425"
        ],
        [
         "ЕГОРИК",
         "404"
        ],
        [
         "В гостях у Гордона",
         "403"
        ],
        [
         "Максим Шевченко",
         "395"
        ],
        [
         "Радио Свобода",
         "394"
        ],
        [
         "UFC Russia",
         "394"
        ],
        [
         "24 Канал",
         "394"
        ],
        [
         "TicTac",
         "393"
        ],
        [
         "vanzai",
         "391"
        ],
        [
         "Дима Гордей",
         "385"
        ],
        [
         "апвоут",
         "384"
        ],
        [
         "Телеканал ICTV",
         "383"
        ]
       ],
       "shape": {
        "columns": 1,
        "rows": 8482
       }
      },
      "text/plain": [
       "channelTitle\n",
       "A4                                 1767\n",
       "Телеканал Дождь                    1619\n",
       "Матч ТВ                            1484\n",
       "EdisonPts                          1368\n",
       "MrLololoshka (Роман Фильченков)    1248\n",
       "                                   ... \n",
       "Depeche Mode                          1\n",
       "Élysée                                1\n",
       "Red Bull Racing Honda                 1\n",
       "ARO-ka                                1\n",
       "Светлый Voiceover                     1\n",
       "Name: count, Length: 8482, dtype: int64"
      ]
     },
     "execution_count": 15,
     "metadata": {},
     "output_type": "execute_result"
    }
   ],
   "source": [
    "data[\"channelTitle\"].value_counts() #Какой канал сколько раз попадал в реки"
   ]
  },
  {
   "cell_type": "code",
   "execution_count": 16,
   "id": "76ed9fb0",
   "metadata": {},
   "outputs": [
    {
     "data": {
      "application/vnd.microsoft.datawrangler.viewer.v0+json": {
       "columns": [
        {
         "name": "channelTitle",
         "rawType": "object",
         "type": "string"
        },
        {
         "name": "categoryId",
         "rawType": "int64",
         "type": "integer"
        }
       ],
       "ref": "ca9c0eba-29ec-4936-94b8-3c82fb20f9de",
       "rows": [
        [
         " Armenchik",
         "1"
        ],
        [
         " Исторический Вольнодумец ",
         "1"
        ],
        [
         "#1 VLOG О ЖИЗНИ И ПЕРЕЕЗДЕ ЗА ГРАНИЦУ",
         "1"
        ],
        [
         "#2Mashi - Topic",
         "1"
        ],
        [
         "#KYIVSTONER",
         "2"
        ],
        [
         "#alexlos",
         "1"
        ],
        [
         "$uicideboy$",
         "1"
        ],
        [
         "&TEAM",
         "1"
        ],
        [
         "(G)I-DLE (여자)아이들 (Official YouTube Channel)",
         "1"
        ],
        [
         "-ТАЁЖНЫЙ-",
         "1"
        ],
        [
         "1 Recette 1 Minute (1 Minute Recipe)",
         "1"
        ],
        [
         "1 vs 9999",
         "1"
        ],
        [
         "1.1TV",
         "2"
        ],
        [
         "10 News First",
         "2"
        ],
        [
         "10 is 10",
         "2"
        ],
        [
         "10 minutes ago ",
         "1"
        ],
        [
         "1001 FUTEBOL",
         "1"
        ],
        [
         "108Life Series",
         "1"
        ],
        [
         "10AGE - Topic",
         "1"
        ],
        [
         "112 Украина",
         "1"
        ],
        [
         "12 колёс",
         "1"
        ],
        [
         "123 GO LIKE! Russian",
         "2"
        ],
        [
         "123 GO! BOYS Russian",
         "2"
        ],
        [
         "123 GO! CHALLENGE Russian",
         "2"
        ],
        [
         "123 GO! FOOD Russian",
         "1"
        ],
        [
         "123 GO! GOLD Russian",
         "2"
        ],
        [
         "123 GO! HACKS",
         "1"
        ],
        [
         "123 GO! HOUSE",
         "2"
        ],
        [
         "123 GO! HOUSE German",
         "1"
        ],
        [
         "123 GO! Kevin",
         "1"
        ],
        [
         "123 GO! Reacts",
         "2"
        ],
        [
         "123 GO! Russian",
         "2"
        ],
        [
         "123 GO! SHORTS",
         "2"
        ],
        [
         "123 GO! Shorts Russian",
         "1"
        ],
        [
         "123 GO! TRENDS Russian",
         "2"
        ],
        [
         "13 Things vs Experiment",
         "1"
        ],
        [
         "13 Карт",
         "1"
        ],
        [
         "13 кнопка",
         "2"
        ],
        [
         "1337LikeR",
         "2"
        ],
        [
         "140 BPM BATTLE",
         "1"
        ],
        [
         "17 Независимый",
         "1"
        ],
        [
         "1MILLION Dance Studio",
         "1"
        ],
        [
         "1Rod1ReelFishing",
         "1"
        ],
        [
         "1in TV",
         "1"
        ],
        [
         "1theK (원더케이)",
         "1"
        ],
        [
         "1theK Originals - 원더케이 오리지널",
         "1"
        ],
        [
         "1분예능모음zip",
         "1"
        ],
        [
         "2 BOYZ NO CAP",
         "1"
        ],
        [
         "2022全台選舉大PK",
         "1"
        ],
        [
         "20th Century Studios",
         "1"
        ]
       ],
       "shape": {
        "columns": 1,
        "rows": 8482
       }
      },
      "text/plain": [
       "channelTitle\n",
       " Armenchik                               1\n",
       " Исторический Вольнодумец                1\n",
       "#1 VLOG О ЖИЗНИ И ПЕРЕЕЗДЕ ЗА ГРАНИЦУ    1\n",
       "#2Mashi - Topic                          1\n",
       "#KYIVSTONER                              2\n",
       "                                        ..\n",
       "혀니콤보 TV                                  1\n",
       "화장하는청담언니                                 1\n",
       "흥삼                                       1\n",
       "흥삼이네 Heungsam's Family                   1\n",
       "💖Карина Ням-Нями💖                        1\n",
       "Name: categoryId, Length: 8482, dtype: int64"
      ]
     },
     "execution_count": 16,
     "metadata": {},
     "output_type": "execute_result"
    }
   ],
   "source": [
    "data.groupby(\"channelTitle\")[\"categoryId\"].nunique() #количество категорий для каждого канала"
   ]
  },
  {
   "cell_type": "code",
   "execution_count": null,
   "id": "b6a86fa5",
   "metadata": {},
   "outputs": [],
   "source": [
    "def get_tag_counts(tags_series):\n",
    "    all_tags = []\n",
    "    for tags in tags_series.dropna():  # убираем NaN\n",
    "        all_tags.extend(tags.split(\"|\"))\n",
    "    return Counter(all_tags)\n",
    "\n",
    "\n",
    "tag_counts_per_channel = data.groupby(\"channelTitle\")[\"tags\"].apply(get_tag_counts)\n",
    "tag_counts_per_channel"
   ]
  }
 ],
 "metadata": {
  "kernelspec": {
   "display_name": ".venv",
   "language": "python",
   "name": "python3"
  },
  "language_info": {
   "codemirror_mode": {
    "name": "ipython",
    "version": 3
   },
   "file_extension": ".py",
   "mimetype": "text/x-python",
   "name": "python",
   "nbconvert_exporter": "python",
   "pygments_lexer": "ipython3",
   "version": "3.13.3"
  }
 },
 "nbformat": 4,
 "nbformat_minor": 5
}
